{
 "cells": [
  {
   "cell_type": "markdown",
   "id": "ef9fa029",
   "metadata": {},
   "source": [
    "Read CSV file "
   ]
  },
  {
   "cell_type": "code",
   "execution_count": 1,
   "id": "06573318",
   "metadata": {},
   "outputs": [],
   "source": [
    "import pandas as pd\n",
    "import numpy as np\n",
    "import sqlite3\n",
    "\n",
    "#Read CSV file\n",
    "restaurant_df = pd.read_csv('restaurant_info.csv')\n",
    "orders_df = pd.read_csv('Orders.csv')"
   ]
  },
  {
   "cell_type": "code",
   "execution_count": 2,
   "id": "625f5de8",
   "metadata": {},
   "outputs": [
    {
     "name": "stdout",
     "output_type": "stream",
     "text": [
      "   RestaurantID     RestaurantName       Cuisine    Zone  Category  Store  \\\n",
      "0             1     The Cave Hotel   Continental  Zone B       Pro      1   \n",
      "1             2          SSK Hotel  North Indian  Zone D       Pro      2   \n",
      "2             3     ASR Restaurant  South Indian  Zone D  Ordinary      3   \n",
      "3             4          Win Hotel  South Indian  Zone D  Ordinary      4   \n",
      "4             5  Denver Restaurant   Continental  Zone D       Pro      5   \n",
      "\n",
      "           Manager  Years_as_manager                       Email  \\\n",
      "0     Esther Hosea               2.0     estherhosea@example.org   \n",
      "1     Dolores Dome              15.0     doloresdome@example.net   \n",
      "2  Jacquline Segal               9.0  jacqulinesegal@example.org   \n",
      "3    Anne Mckinley               1.0    annemckinley@example.net   \n",
      "4  Francisco Doxey              14.0  franciscodoxey@example.net   \n",
      "\n",
      "                                   Address  \n",
      "0      4971 Janet Court;Livermore;CA;94550  \n",
      "1      29 Vista Flores;Pleasanton;CA;94566  \n",
      "2  1383 Purdue Street;San Leandro;CA;94579  \n",
      "3        1452 55th Avenue;Oakland;CA;94621  \n",
      "4  1352 Purdue Street;San Leandro;CA;94579  \n",
      "  Order_ID First_Customer_Name  Restaurant_ID           Order_Date  \\\n",
      "0      OD1               Srini              6  2022-01-01 23:15:00   \n",
      "1      OD2             Revandh             13  2022-01-01 19:21:00   \n",
      "2      OD3               David              9  2022-01-01 23:15:00   \n",
      "3      OD4               Selva              4  2022-01-01 20:31:00   \n",
      "4      OD5               Vinny              4  2022-01-01 11:10:00   \n",
      "\n",
      "   Quantity_of_Items  Order_Amount      Payment_Mode  \\\n",
      "0                5.0           633        Debit Card   \n",
      "1                5.0           258       Credit Card   \n",
      "2                7.0           594  Cash on Delivery   \n",
      "3                5.0           868  Cash on Delivery   \n",
      "4                4.0           170        Debit Card   \n",
      "\n",
      "   Delivery_Time_Taken_(mins)  Customer_Rating_Food  Customer_Rating_Delivery  \\\n",
      "0                          47                     5                         3   \n",
      "1                          41                     3                         5   \n",
      "2                          30                     3                         4   \n",
      "3                          30                     3                         4   \n",
      "4                          18                     4                         3   \n",
      "\n",
      "    Credit_Card    Debit_Card  Card_provider Last_Customer_Name  \n",
      "0           NaN  3.530303e+15  VISA 13 digit              Simon  \n",
      "1  4.332288e+18           NaN       Discover              Scott  \n",
      "2           NaN           NaN            NaN             Torres  \n",
      "3           NaN           NaN            NaN              Jones  \n",
      "4           NaN  6.759038e+11     Mastercard            Coleman  \n"
     ]
    }
   ],
   "source": [
    "# Change column name to remove spaces for compatibility with sql databse\n",
    "\n",
    "restaurant_df.columns = restaurant_df.columns.str.replace(' ', '_')\n",
    "orders_df.columns = orders_df.columns.str.replace(' ', '_')\n",
    "orders_df.columns = orders_df.columns.str.replace('-', '_')\n",
    "\n",
    "print(restaurant_df.head())\n",
    "print(orders_df.head())\n"
   ]
  },
  {
   "cell_type": "markdown",
   "id": "dd36cb4c",
   "metadata": {},
   "source": [
    "Cleaning Restaurant_info CSV file"
   ]
  },
  {
   "cell_type": "code",
   "execution_count": 3,
   "id": "d7757d69",
   "metadata": {},
   "outputs": [],
   "source": [
    "# Renaming Restaurant_ID column from restaurant csv for column name consistency\n",
    "restaurant_df = restaurant_df.rename(columns={'RestaurantID': 'Restaurant_ID'})"
   ]
  },
  {
   "cell_type": "code",
   "execution_count": 4,
   "id": "4e0d9bf8",
   "metadata": {},
   "outputs": [],
   "source": [
    "# Changing column name RestaurantName\n",
    "restaurant_df = restaurant_df.rename(columns={'RestaurantName': 'Restaurant_Name'})"
   ]
  },
  {
   "cell_type": "code",
   "execution_count": 5,
   "id": "8096d3a8",
   "metadata": {},
   "outputs": [],
   "source": [
    "# Changing column name Manager\n",
    "restaurant_df = restaurant_df.rename(columns={'Manager': 'Manager_Name'})"
   ]
  },
  {
   "cell_type": "code",
   "execution_count": 6,
   "id": "e7180a6a",
   "metadata": {},
   "outputs": [
    {
     "name": "stdout",
     "output_type": "stream",
     "text": [
      "   Restaurant_ID    Restaurant_Name       Cuisine    Zone  Category  Store  \\\n",
      "0              1     The Cave Hotel   Continental  Zone B       Pro      1   \n",
      "1              2          SSK Hotel  North Indian  Zone D       Pro      2   \n",
      "2              3     ASR Restaurant  South Indian  Zone D  Ordinary      3   \n",
      "3              4          Win Hotel  South Indian  Zone D  Ordinary      4   \n",
      "4              5  Denver Restaurant   Continental  Zone D       Pro      5   \n",
      "\n",
      "      Manager_Name  Years_as_manager                       Email  \\\n",
      "0     Esther Hosea               2.0     estherhosea@example.org   \n",
      "1     Dolores Dome              15.0     doloresdome@example.net   \n",
      "2  Jacquline Segal               9.0  jacqulinesegal@example.org   \n",
      "3    Anne Mckinley               1.0    annemckinley@example.net   \n",
      "4  Francisco Doxey              14.0  franciscodoxey@example.net   \n",
      "\n",
      "                                   Address  \n",
      "0      4971 Janet Court;Livermore;CA;94550  \n",
      "1      29 Vista Flores;Pleasanton;CA;94566  \n",
      "2  1383 Purdue Street;San Leandro;CA;94579  \n",
      "3        1452 55th Avenue;Oakland;CA;94621  \n",
      "4  1352 Purdue Street;San Leandro;CA;94579  \n"
     ]
    }
   ],
   "source": [
    "print(restaurant_df.head())"
   ]
  },
  {
   "cell_type": "code",
   "execution_count": 7,
   "id": "bfab80dd",
   "metadata": {},
   "outputs": [
    {
     "name": "stdout",
     "output_type": "stream",
     "text": [
      "Columns with missing values: ['Manager_Name', 'Years_as_manager', 'Email']\n"
     ]
    }
   ],
   "source": [
    "# Get the list of columns with missing values\n",
    "columns_with_na = restaurant_df.columns[restaurant_df.isnull().any()].tolist()\n",
    "\n",
    "# Print the result\n",
    "print(\"Columns with missing values:\", columns_with_na)"
   ]
  },
  {
   "cell_type": "code",
   "execution_count": 10,
   "id": "9ec087fd",
   "metadata": {},
   "outputs": [],
   "source": [
    "# Initialize the 'Manager_ID' column if it doesn't exist\n",
    "if 'Manager_ID' not in restaurant_df.columns:\n",
    "    restaurant_df['Manager_ID'] = range(1, len(restaurant_df) + 1)\n"
   ]
  },
  {
   "cell_type": "code",
   "execution_count": 11,
   "id": "785381d0",
   "metadata": {},
   "outputs": [],
   "source": [
    "#Add Location_ID in restaurant CSV based on Zone\n",
    "\n",
    "restaurant_df['Location_ID'] = pd.factorize(restaurant_df['Zone'])[0] + 1"
   ]
  },
  {
   "cell_type": "code",
   "execution_count": 12,
   "id": "1ae8bfd9",
   "metadata": {},
   "outputs": [
    {
     "name": "stdout",
     "output_type": "stream",
     "text": [
      "    Restaurant_ID    Restaurant_Name       Cuisine    Zone  Category  Store  \\\n",
      "0               1     The Cave Hotel   Continental  Zone B       Pro      1   \n",
      "1               2          SSK Hotel  North Indian  Zone D       Pro      2   \n",
      "2               3     ASR Restaurant  South Indian  Zone D  Ordinary      3   \n",
      "3               4          Win Hotel  South Indian  Zone D  Ordinary      4   \n",
      "4               5  Denver Restaurant   Continental  Zone D       Pro      5   \n",
      "5               6            Willies        French  Zone D       Pro      6   \n",
      "6               7                AMN  North Indian  Zone D  Ordinary      7   \n",
      "7               8               Oslo        French  Zone B  Ordinary      8   \n",
      "8               9   Excel Restaurant  North Indian  Zone D  Ordinary      9   \n",
      "9              10         Dave Hotel  South Indian  Zone A  Ordinary     10   \n",
      "10             11          The Taste        French  Zone B       Pro     11   \n",
      "11             12              Ruchi       Chinese  Zone B  Ordinary     12   \n",
      "12             13    Veer Restaurant       Chinese  Zone D  Ordinary     13   \n",
      "13             14          KSR Hotel       Chinese  Zone A       Pro     14   \n",
      "14             15      Vrinda Bhavan  North Indian  Zone D  Ordinary     15   \n",
      "15             16   Anand Restaurant       African  Zone C  Ordinary     16   \n",
      "16             17            Zam Zam       Arabian  Zone C  Ordinary     17   \n",
      "17             18             Ellora       African  Zone C       Pro     18   \n",
      "18             19          Sam Hotel       Belgian  Zone A  Ordinary     19   \n",
      "19             20    Chew Restaurant       Belgian  Zone B  Ordinary     20   \n",
      "\n",
      "           Manager_Name  Years_as_manager                           Email  \\\n",
      "0          Esther Hosea               2.0         estherhosea@example.org   \n",
      "1          Dolores Dome              15.0         doloresdome@example.net   \n",
      "2       Jacquline Segal               9.0      jacqulinesegal@example.org   \n",
      "3         Anne Mckinley               1.0        annemckinley@example.net   \n",
      "4       Francisco Doxey              14.0      franciscodoxey@example.net   \n",
      "5         Bonnie Somers               5.0        bonniesomers@example.net   \n",
      "6        Nicolle Arnold               1.0       nicollearnold@example.org   \n",
      "7                   NaN               NaN                             NaN   \n",
      "8   Georgia Vandergriff               5.0  georgiavandergriff@example.net   \n",
      "9         Sabrina Riley              11.0        sabrinariley@example.com   \n",
      "10            Nancy Cox               8.0            nancycox@example.net   \n",
      "11       Norbert Stormo               8.0       norbertstormo@example.com   \n",
      "12       Augusta Hurley              15.0       augustahurley@example.net   \n",
      "13        Megan Guillot              14.0        meganguillot@example.org   \n",
      "14           Clara Owen               NaN           claraowen@example.org   \n",
      "15     Tanisha Schaefer              15.0     tanishaschaefer@example.com   \n",
      "16       Patrick Stacey               9.0                             NaN   \n",
      "17          Bianca Tirk               9.0          biancatirk@example.com   \n",
      "18       Wesley Whitley               9.0       wesleywhitley@example.org   \n",
      "19         Doreen Gibbs              15.0         doreengibbs@example.net   \n",
      "\n",
      "                                          Address  Manager_ID  Location_ID  \n",
      "0             4971 Janet Court;Livermore;CA;94550           1            1  \n",
      "1             29 Vista Flores;Pleasanton;CA;94566           2            2  \n",
      "2         1383 Purdue Street;San Leandro;CA;94579           3            2  \n",
      "3               1452 55th Avenue;Oakland;CA;94621           4            2  \n",
      "4         1352 Purdue Street;San Leandro;CA;94579           5            2  \n",
      "5            43626 Bryant Street;Fremont;CA;94539           6            2  \n",
      "6           7096 Park Mesa Way;San Diego;CA;92111           7            2  \n",
      "7              12283 Thomas Lane;Yucaipa;CA;92399           8            1  \n",
      "8            5472 Sunstar Common;Fremont;CA;94555           9            2  \n",
      "9            43626 Bryant Street;Fremont;CA;94539          10            3  \n",
      "10      32512 Christine Drive;Union City;CA;94587          11            1  \n",
      "11           5264 Shafter Avenue;Oakland;CA;94618          12            1  \n",
      "12             2014 Clemens Road;Oakland;CA;94602          13            2  \n",
      "13              1452 55th Avenue;Oakland;CA;94621          14            3  \n",
      "14          2732 Humboldt Avenue;Oakland;CA;94602          15            2  \n",
      "15           32532 Jean Drive;Union City;CA;94587          16            4  \n",
      "16        6925 Lariat Lane;Castro Valley;CA;94552          17            4  \n",
      "17  3228 Chettenham Drive;Rancho Cordova;CA;95670          18            4  \n",
      "18                        145 Grau Drive;Fremont;          19            3  \n",
      "19         7573 National Drive;Livermore;CA;94550          20            1  \n"
     ]
    }
   ],
   "source": [
    "print(restaurant_df)"
   ]
  },
  {
   "cell_type": "code",
   "execution_count": 13,
   "id": "f47dc0ea",
   "metadata": {},
   "outputs": [
    {
     "data": {
      "text/plain": [
       "9.0"
      ]
     },
     "execution_count": 13,
     "metadata": {},
     "output_type": "execute_result"
    }
   ],
   "source": [
    "## Handling missing 'Year_as_manager'\n",
    "\n",
    "\n",
    "#Calculating mean Age\n",
    "mean_age = restaurant_df[\"Years_as_manager\"].mean()\n",
    "\n",
    "# Round the mean to the desired number of decimal places\n",
    "rounded_mean_age = round(mean_age, 0)  # Adjust the number of decimal places as needed\n",
    "rounded_mean_age\n"
   ]
  },
  {
   "cell_type": "code",
   "execution_count": 14,
   "id": "57effd14",
   "metadata": {},
   "outputs": [
    {
     "name": "stdout",
     "output_type": "stream",
     "text": [
      "    Restaurant_ID    Restaurant_Name       Cuisine    Zone  Category  Store  \\\n",
      "0               1     The Cave Hotel   Continental  Zone B       Pro      1   \n",
      "1               2          SSK Hotel  North Indian  Zone D       Pro      2   \n",
      "2               3     ASR Restaurant  South Indian  Zone D  Ordinary      3   \n",
      "3               4          Win Hotel  South Indian  Zone D  Ordinary      4   \n",
      "4               5  Denver Restaurant   Continental  Zone D       Pro      5   \n",
      "5               6            Willies        French  Zone D       Pro      6   \n",
      "6               7                AMN  North Indian  Zone D  Ordinary      7   \n",
      "7               8               Oslo        French  Zone B  Ordinary      8   \n",
      "8               9   Excel Restaurant  North Indian  Zone D  Ordinary      9   \n",
      "9              10         Dave Hotel  South Indian  Zone A  Ordinary     10   \n",
      "10             11          The Taste        French  Zone B       Pro     11   \n",
      "11             12              Ruchi       Chinese  Zone B  Ordinary     12   \n",
      "12             13    Veer Restaurant       Chinese  Zone D  Ordinary     13   \n",
      "13             14          KSR Hotel       Chinese  Zone A       Pro     14   \n",
      "14             15      Vrinda Bhavan  North Indian  Zone D  Ordinary     15   \n",
      "15             16   Anand Restaurant       African  Zone C  Ordinary     16   \n",
      "16             17            Zam Zam       Arabian  Zone C  Ordinary     17   \n",
      "17             18             Ellora       African  Zone C       Pro     18   \n",
      "18             19          Sam Hotel       Belgian  Zone A  Ordinary     19   \n",
      "19             20    Chew Restaurant       Belgian  Zone B  Ordinary     20   \n",
      "\n",
      "           Manager_Name  Years_as_manager                           Email  \\\n",
      "0          Esther Hosea               2.0         estherhosea@example.org   \n",
      "1          Dolores Dome              15.0         doloresdome@example.net   \n",
      "2       Jacquline Segal               9.0      jacqulinesegal@example.org   \n",
      "3         Anne Mckinley               1.0        annemckinley@example.net   \n",
      "4       Francisco Doxey              14.0      franciscodoxey@example.net   \n",
      "5         Bonnie Somers               5.0        bonniesomers@example.net   \n",
      "6        Nicolle Arnold               1.0       nicollearnold@example.org   \n",
      "7                   NaN               0.0                             NaN   \n",
      "8   Georgia Vandergriff               5.0  georgiavandergriff@example.net   \n",
      "9         Sabrina Riley              11.0        sabrinariley@example.com   \n",
      "10            Nancy Cox               8.0            nancycox@example.net   \n",
      "11       Norbert Stormo               8.0       norbertstormo@example.com   \n",
      "12       Augusta Hurley              15.0       augustahurley@example.net   \n",
      "13        Megan Guillot              14.0        meganguillot@example.org   \n",
      "14           Clara Owen               9.0           claraowen@example.org   \n",
      "15     Tanisha Schaefer              15.0     tanishaschaefer@example.com   \n",
      "16       Patrick Stacey               9.0                             NaN   \n",
      "17          Bianca Tirk               9.0          biancatirk@example.com   \n",
      "18       Wesley Whitley               9.0       wesleywhitley@example.org   \n",
      "19         Doreen Gibbs              15.0         doreengibbs@example.net   \n",
      "\n",
      "                                          Address  Manager_ID  Location_ID  \n",
      "0             4971 Janet Court;Livermore;CA;94550           1            1  \n",
      "1             29 Vista Flores;Pleasanton;CA;94566           2            2  \n",
      "2         1383 Purdue Street;San Leandro;CA;94579           3            2  \n",
      "3               1452 55th Avenue;Oakland;CA;94621           4            2  \n",
      "4         1352 Purdue Street;San Leandro;CA;94579           5            2  \n",
      "5            43626 Bryant Street;Fremont;CA;94539           6            2  \n",
      "6           7096 Park Mesa Way;San Diego;CA;92111           7            2  \n",
      "7              12283 Thomas Lane;Yucaipa;CA;92399           8            1  \n",
      "8            5472 Sunstar Common;Fremont;CA;94555           9            2  \n",
      "9            43626 Bryant Street;Fremont;CA;94539          10            3  \n",
      "10      32512 Christine Drive;Union City;CA;94587          11            1  \n",
      "11           5264 Shafter Avenue;Oakland;CA;94618          12            1  \n",
      "12             2014 Clemens Road;Oakland;CA;94602          13            2  \n",
      "13              1452 55th Avenue;Oakland;CA;94621          14            3  \n",
      "14          2732 Humboldt Avenue;Oakland;CA;94602          15            2  \n",
      "15           32532 Jean Drive;Union City;CA;94587          16            4  \n",
      "16        6925 Lariat Lane;Castro Valley;CA;94552          17            4  \n",
      "17  3228 Chettenham Drive;Rancho Cordova;CA;95670          18            4  \n",
      "18                        145 Grau Drive;Fremont;          19            3  \n",
      "19         7573 National Drive;Livermore;CA;94550          20            1  \n"
     ]
    }
   ],
   "source": [
    "#Replacing Missing value with Mean age\n",
    "restaurant_df.loc[14, 'Years_as_manager'] = rounded_mean_age\n",
    "\n",
    "#Replace value with 0 in misisng value of `Year_as_manager` for missing `Manager`\n",
    "restaurant_df.loc[7, 'Years_as_manager'] = 0\n",
    "print(restaurant_df)"
   ]
  },
  {
   "cell_type": "code",
   "execution_count": 15,
   "id": "4b16ce47",
   "metadata": {},
   "outputs": [
    {
     "name": "stdout",
     "output_type": "stream",
     "text": [
      "    Restaurant_ID    Restaurant_Name       Cuisine    Zone  Category  Store  \\\n",
      "0               1     The Cave Hotel   Continental  Zone B       Pro      1   \n",
      "1               2          SSK Hotel  North Indian  Zone D       Pro      2   \n",
      "2               3     ASR Restaurant  South Indian  Zone D  Ordinary      3   \n",
      "3               4          Win Hotel  South Indian  Zone D  Ordinary      4   \n",
      "4               5  Denver Restaurant   Continental  Zone D       Pro      5   \n",
      "5               6            Willies        French  Zone D       Pro      6   \n",
      "6               7                AMN  North Indian  Zone D  Ordinary      7   \n",
      "7               8               Oslo        French  Zone B  Ordinary      8   \n",
      "8               9   Excel Restaurant  North Indian  Zone D  Ordinary      9   \n",
      "9              10         Dave Hotel  South Indian  Zone A  Ordinary     10   \n",
      "10             11          The Taste        French  Zone B       Pro     11   \n",
      "11             12              Ruchi       Chinese  Zone B  Ordinary     12   \n",
      "12             13    Veer Restaurant       Chinese  Zone D  Ordinary     13   \n",
      "13             14          KSR Hotel       Chinese  Zone A       Pro     14   \n",
      "14             15      Vrinda Bhavan  North Indian  Zone D  Ordinary     15   \n",
      "15             16   Anand Restaurant       African  Zone C  Ordinary     16   \n",
      "16             17            Zam Zam       Arabian  Zone C  Ordinary     17   \n",
      "17             18             Ellora       African  Zone C       Pro     18   \n",
      "18             19          Sam Hotel       Belgian  Zone A  Ordinary     19   \n",
      "19             20    Chew Restaurant       Belgian  Zone B  Ordinary     20   \n",
      "\n",
      "           Manager_Name  Years_as_manager                           Email  \\\n",
      "0          Esther Hosea               2.0         estherhosea@example.org   \n",
      "1          Dolores Dome              15.0         doloresdome@example.net   \n",
      "2       Jacquline Segal               9.0      jacqulinesegal@example.org   \n",
      "3         Anne Mckinley               1.0        annemckinley@example.net   \n",
      "4       Francisco Doxey              14.0      franciscodoxey@example.net   \n",
      "5         Bonnie Somers               5.0        bonniesomers@example.net   \n",
      "6        Nicolle Arnold               1.0       nicollearnold@example.org   \n",
      "7                   NaN               0.0                             NaN   \n",
      "8   Georgia Vandergriff               5.0  georgiavandergriff@example.net   \n",
      "9         Sabrina Riley              11.0        sabrinariley@example.com   \n",
      "10            Nancy Cox               8.0            nancycox@example.net   \n",
      "11       Norbert Stormo               8.0       norbertstormo@example.com   \n",
      "12       Augusta Hurley              15.0       augustahurley@example.net   \n",
      "13        Megan Guillot              14.0        meganguillot@example.org   \n",
      "14           Clara Owen               9.0           claraowen@example.org   \n",
      "15     Tanisha Schaefer              15.0     tanishaschaefer@example.com   \n",
      "16       Patrick Stacey               9.0                             NaN   \n",
      "17          Bianca Tirk               9.0          biancatirk@example.com   \n",
      "18       Wesley Whitley               9.0       wesleywhitley@example.org   \n",
      "19         Doreen Gibbs              15.0         doreengibbs@example.net   \n",
      "\n",
      "                                          Address  Manager_ID  Location_ID  \\\n",
      "0             4971 Janet Court;Livermore;CA;94550           1            1   \n",
      "1             29 Vista Flores;Pleasanton;CA;94566           2            2   \n",
      "2         1383 Purdue Street;San Leandro;CA;94579           3            2   \n",
      "3               1452 55th Avenue;Oakland;CA;94621           4            2   \n",
      "4         1352 Purdue Street;San Leandro;CA;94579           5            2   \n",
      "5            43626 Bryant Street;Fremont;CA;94539           6            2   \n",
      "6           7096 Park Mesa Way;San Diego;CA;92111           7            2   \n",
      "7              12283 Thomas Lane;Yucaipa;CA;92399           8            1   \n",
      "8            5472 Sunstar Common;Fremont;CA;94555           9            2   \n",
      "9            43626 Bryant Street;Fremont;CA;94539          10            3   \n",
      "10      32512 Christine Drive;Union City;CA;94587          11            1   \n",
      "11           5264 Shafter Avenue;Oakland;CA;94618          12            1   \n",
      "12             2014 Clemens Road;Oakland;CA;94602          13            2   \n",
      "13              1452 55th Avenue;Oakland;CA;94621          14            3   \n",
      "14          2732 Humboldt Avenue;Oakland;CA;94602          15            2   \n",
      "15           32532 Jean Drive;Union City;CA;94587          16            4   \n",
      "16        6925 Lariat Lane;Castro Valley;CA;94552          17            4   \n",
      "17  3228 Chettenham Drive;Rancho Cordova;CA;95670          18            4   \n",
      "18                        145 Grau Drive;Fremont;          19            3   \n",
      "19         7573 National Drive;Livermore;CA;94550          20            1   \n",
      "\n",
      "                   Street            City State    ZIP  \n",
      "0        4971 Janet Court       Livermore    CA  94550  \n",
      "1         29 Vista Flores      Pleasanton    CA  94566  \n",
      "2      1383 Purdue Street     San Leandro    CA  94579  \n",
      "3        1452 55th Avenue         Oakland    CA  94621  \n",
      "4      1352 Purdue Street     San Leandro    CA  94579  \n",
      "5     43626 Bryant Street         Fremont    CA  94539  \n",
      "6      7096 Park Mesa Way       San Diego    CA  92111  \n",
      "7       12283 Thomas Lane         Yucaipa    CA  92399  \n",
      "8     5472 Sunstar Common         Fremont    CA  94555  \n",
      "9     43626 Bryant Street         Fremont    CA  94539  \n",
      "10  32512 Christine Drive      Union City    CA  94587  \n",
      "11    5264 Shafter Avenue         Oakland    CA  94618  \n",
      "12      2014 Clemens Road         Oakland    CA  94602  \n",
      "13       1452 55th Avenue         Oakland    CA  94621  \n",
      "14   2732 Humboldt Avenue         Oakland    CA  94602  \n",
      "15       32532 Jean Drive      Union City    CA  94587  \n",
      "16       6925 Lariat Lane   Castro Valley    CA  94552  \n",
      "17  3228 Chettenham Drive  Rancho Cordova    CA  95670  \n",
      "18         145 Grau Drive         Fremont         None  \n",
      "19    7573 National Drive       Livermore    CA  94550  \n"
     ]
    }
   ],
   "source": [
    "#Separate address\n",
    "address_parts = restaurant_df['Address'].str.split(';', expand=True)\n",
    "\n",
    "# Rename columns\n",
    "address_parts.columns = ['Street', 'City', 'State', 'ZIP']\n",
    "\n",
    "# Concatenate the new columns with the original DataFrame\n",
    "restaurant_df= pd.concat([restaurant_df, address_parts], axis=1)\n",
    "\n",
    "print(restaurant_df)"
   ]
  },
  {
   "cell_type": "code",
   "execution_count": 16,
   "id": "b040c704",
   "metadata": {},
   "outputs": [
    {
     "name": "stdout",
     "output_type": "stream",
     "text": [
      "    Restaurant_ID    Restaurant_Name       Cuisine    Zone  Category  Store  \\\n",
      "0               1     The Cave Hotel   Continental  Zone B       Pro      1   \n",
      "1               2          SSK Hotel  North Indian  Zone D       Pro      2   \n",
      "2               3     ASR Restaurant  South Indian  Zone D  Ordinary      3   \n",
      "3               4          Win Hotel  South Indian  Zone D  Ordinary      4   \n",
      "4               5  Denver Restaurant   Continental  Zone D       Pro      5   \n",
      "5               6            Willies        French  Zone D       Pro      6   \n",
      "6               7                AMN  North Indian  Zone D  Ordinary      7   \n",
      "7               8               Oslo        French  Zone B  Ordinary      8   \n",
      "8               9   Excel Restaurant  North Indian  Zone D  Ordinary      9   \n",
      "9              10         Dave Hotel  South Indian  Zone A  Ordinary     10   \n",
      "10             11          The Taste        French  Zone B       Pro     11   \n",
      "11             12              Ruchi       Chinese  Zone B  Ordinary     12   \n",
      "12             13    Veer Restaurant       Chinese  Zone D  Ordinary     13   \n",
      "13             14          KSR Hotel       Chinese  Zone A       Pro     14   \n",
      "14             15      Vrinda Bhavan  North Indian  Zone D  Ordinary     15   \n",
      "15             16   Anand Restaurant       African  Zone C  Ordinary     16   \n",
      "16             17            Zam Zam       Arabian  Zone C  Ordinary     17   \n",
      "17             18             Ellora       African  Zone C       Pro     18   \n",
      "18             19          Sam Hotel       Belgian  Zone A  Ordinary     19   \n",
      "19             20    Chew Restaurant       Belgian  Zone B  Ordinary     20   \n",
      "\n",
      "           Manager_Name  Years_as_manager                           Email  \\\n",
      "0          Esther Hosea               2.0         estherhosea@example.org   \n",
      "1          Dolores Dome              15.0         doloresdome@example.net   \n",
      "2       Jacquline Segal               9.0      jacqulinesegal@example.org   \n",
      "3         Anne Mckinley               1.0        annemckinley@example.net   \n",
      "4       Francisco Doxey              14.0      franciscodoxey@example.net   \n",
      "5         Bonnie Somers               5.0        bonniesomers@example.net   \n",
      "6        Nicolle Arnold               1.0       nicollearnold@example.org   \n",
      "7                   NaN               0.0                             NaN   \n",
      "8   Georgia Vandergriff               5.0  georgiavandergriff@example.net   \n",
      "9         Sabrina Riley              11.0        sabrinariley@example.com   \n",
      "10            Nancy Cox               8.0            nancycox@example.net   \n",
      "11       Norbert Stormo               8.0       norbertstormo@example.com   \n",
      "12       Augusta Hurley              15.0       augustahurley@example.net   \n",
      "13        Megan Guillot              14.0        meganguillot@example.org   \n",
      "14           Clara Owen               9.0           claraowen@example.org   \n",
      "15     Tanisha Schaefer              15.0     tanishaschaefer@example.com   \n",
      "16       Patrick Stacey               9.0                             NaN   \n",
      "17          Bianca Tirk               9.0          biancatirk@example.com   \n",
      "18       Wesley Whitley               9.0       wesleywhitley@example.org   \n",
      "19         Doreen Gibbs              15.0         doreengibbs@example.net   \n",
      "\n",
      "                                          Address  Manager_ID  Location_ID  \\\n",
      "0             4971 Janet Court;Livermore;CA;94550           1            1   \n",
      "1             29 Vista Flores;Pleasanton;CA;94566           2            2   \n",
      "2         1383 Purdue Street;San Leandro;CA;94579           3            2   \n",
      "3               1452 55th Avenue;Oakland;CA;94621           4            2   \n",
      "4         1352 Purdue Street;San Leandro;CA;94579           5            2   \n",
      "5            43626 Bryant Street;Fremont;CA;94539           6            2   \n",
      "6           7096 Park Mesa Way;San Diego;CA;92111           7            2   \n",
      "7              12283 Thomas Lane;Yucaipa;CA;92399           8            1   \n",
      "8            5472 Sunstar Common;Fremont;CA;94555           9            2   \n",
      "9            43626 Bryant Street;Fremont;CA;94539          10            3   \n",
      "10      32512 Christine Drive;Union City;CA;94587          11            1   \n",
      "11           5264 Shafter Avenue;Oakland;CA;94618          12            1   \n",
      "12             2014 Clemens Road;Oakland;CA;94602          13            2   \n",
      "13              1452 55th Avenue;Oakland;CA;94621          14            3   \n",
      "14          2732 Humboldt Avenue;Oakland;CA;94602          15            2   \n",
      "15           32532 Jean Drive;Union City;CA;94587          16            4   \n",
      "16        6925 Lariat Lane;Castro Valley;CA;94552          17            4   \n",
      "17  3228 Chettenham Drive;Rancho Cordova;CA;95670          18            4   \n",
      "18                        145 Grau Drive;Fremont;          19            3   \n",
      "19         7573 National Drive;Livermore;CA;94550          20            1   \n",
      "\n",
      "                   Street            City State    ZIP  \n",
      "0        4971 Janet Court       Livermore    CA  94550  \n",
      "1         29 Vista Flores      Pleasanton    CA  94566  \n",
      "2      1383 Purdue Street     San Leandro    CA  94579  \n",
      "3        1452 55th Avenue         Oakland    CA  94621  \n",
      "4      1352 Purdue Street     San Leandro    CA  94579  \n",
      "5     43626 Bryant Street         Fremont    CA  94539  \n",
      "6      7096 Park Mesa Way       San Diego    CA  92111  \n",
      "7       12283 Thomas Lane         Yucaipa    CA  92399  \n",
      "8     5472 Sunstar Common         Fremont    CA  94555  \n",
      "9     43626 Bryant Street         Fremont    CA  94539  \n",
      "10  32512 Christine Drive      Union City    CA  94587  \n",
      "11    5264 Shafter Avenue         Oakland    CA  94618  \n",
      "12      2014 Clemens Road         Oakland    CA  94602  \n",
      "13       1452 55th Avenue         Oakland    CA  94621  \n",
      "14   2732 Humboldt Avenue         Oakland    CA  94602  \n",
      "15       32532 Jean Drive      Union City    CA  94587  \n",
      "16       6925 Lariat Lane   Castro Valley    CA  94552  \n",
      "17  3228 Chettenham Drive  Rancho Cordova    CA  95670  \n",
      "18         145 Grau Drive         Fremont    CA  94536  \n",
      "19    7573 National Drive       Livermore    CA  94550  \n"
     ]
    }
   ],
   "source": [
    "#Replace missing value in State and ZIP with actual state and ZIP\n",
    "restaurant_df.loc[18, 'State'] = 'CA'\n",
    "restaurant_df.loc[18, 'ZIP'] = 94536\n",
    "print(restaurant_df)"
   ]
  },
  {
   "cell_type": "markdown",
   "id": "6a9adecb",
   "metadata": {},
   "source": [
    "Cleaning Orders CSV file"
   ]
  },
  {
   "cell_type": "code",
   "execution_count": 17,
   "id": "1a437c8e",
   "metadata": {},
   "outputs": [],
   "source": [
    "# Changing column name 'Delivery_Time_Taken_(mins)'\n",
    "orders_df = orders_df.rename(columns={'Delivery_Time_Taken_(mins)': 'Delivery_Time_Taken_Mins'})\n"
   ]
  },
  {
   "cell_type": "code",
   "execution_count": 18,
   "id": "edb7dffb",
   "metadata": {},
   "outputs": [
    {
     "name": "stdout",
     "output_type": "stream",
     "text": [
      "Columns with missing values: ['Order_ID', 'First_Customer_Name', 'Quantity_of_Items', 'Payment_Mode', 'Credit_Card', 'Debit_Card', 'Card_provider']\n"
     ]
    }
   ],
   "source": [
    "# Get the list of columns with missing values\n",
    "columns_with_na = orders_df.columns[orders_df.isnull().any()].tolist()\n",
    "\n",
    "# Print the result\n",
    "print(\"Columns with missing values:\", columns_with_na)\n"
   ]
  },
  {
   "cell_type": "code",
   "execution_count": 19,
   "id": "030fe4f3",
   "metadata": {},
   "outputs": [
    {
     "name": "stdout",
     "output_type": "stream",
     "text": [
      "  Order_ID First_Customer_Name  Restaurant_ID           Order_Date  \\\n",
      "0      OD1               Srini              6  2022-01-01 23:15:00   \n",
      "1      OD2             Revandh             13  2022-01-01 19:21:00   \n",
      "2      OD3               David              9  2022-01-01 23:15:00   \n",
      "3      OD4               Selva              4  2022-01-01 20:31:00   \n",
      "4      OD5               Vinny              4  2022-01-01 11:10:00   \n",
      "\n",
      "   Quantity_of_Items  Order_Amount      Payment_Mode  \\\n",
      "0                5.0           633        Debit Card   \n",
      "1                5.0           258       Credit Card   \n",
      "2                7.0           594  Cash on Delivery   \n",
      "3                5.0           868  Cash on Delivery   \n",
      "4                4.0           170        Debit Card   \n",
      "\n",
      "   Delivery_Time_Taken_Mins  Customer_Rating_Food  Customer_Rating_Delivery  \\\n",
      "0                        47                     5                         3   \n",
      "1                        41                     3                         5   \n",
      "2                        30                     3                         4   \n",
      "3                        30                     3                         4   \n",
      "4                        18                     4                         3   \n",
      "\n",
      "    Credit_Card    Debit_Card  Card_provider Last_Customer_Name  Customer_ID  \n",
      "0           NaN  3.530303e+15  VISA 13 digit              Simon            1  \n",
      "1  4.332288e+18           NaN       Discover              Scott            2  \n",
      "2           NaN           NaN            NaN             Torres            3  \n",
      "3           NaN           NaN            NaN              Jones            4  \n",
      "4           NaN  6.759038e+11     Mastercard            Coleman            5  \n"
     ]
    }
   ],
   "source": [
    "#Add customerid in restuarnat CSV\n",
    "orders_df['Customer_ID'] = pd.factorize(orders_df['First_Customer_Name'] + orders_df['Last_Customer_Name'])[0] + 1\n",
    "print(orders_df.head())"
   ]
  },
  {
   "cell_type": "code",
   "execution_count": 20,
   "id": "900b1416",
   "metadata": {},
   "outputs": [],
   "source": [
    "#Handling missing first_name\n",
    "orders_df['First_Customer_Name'].fillna(orders_df.groupby(['Last_Customer_Name', 'Credit_Card'])['First_Customer_Name'].transform('first'), inplace=True)\n"
   ]
  },
  {
   "cell_type": "code",
   "execution_count": 21,
   "id": "b7d84986",
   "metadata": {},
   "outputs": [
    {
     "name": "stdout",
     "output_type": "stream",
     "text": [
      "Number of missing values in 'First_Name' column: 0\n"
     ]
    }
   ],
   "source": [
    "# Check for missing values in the 'First_Name' column\n",
    "missing_values = orders_df['First_Customer_Name'].isnull().sum()\n",
    "\n",
    "# Print the result\n",
    "print(\"Number of missing values in 'First_Name' column:\", missing_values)"
   ]
  },
  {
   "cell_type": "code",
   "execution_count": 22,
   "id": "9e7b783e",
   "metadata": {},
   "outputs": [],
   "source": [
    "#Handling Missing Order ID\n",
    "\n",
    "# Find the missing row number(s)\n",
    "missing_rows = orders_df[orders_df['Order_ID'].isnull()].index\n",
    "\n",
    "# Fill in missing Order IDs based on row number with \"OD\" prefix\n",
    "orders_df.loc[missing_rows, 'Order_ID'] = 'OD' + (missing_rows + 1).astype(str)"
   ]
  },
  {
   "cell_type": "code",
   "execution_count": 23,
   "id": "b41d7e6e",
   "metadata": {},
   "outputs": [
    {
     "name": "stdout",
     "output_type": "stream",
     "text": [
      "Number of missing values in 'Order_ID' column: 0\n"
     ]
    }
   ],
   "source": [
    "# Check for missing values in the ORDERID column\n",
    "missing_values = orders_df['Order_ID'].isnull().sum()\n",
    "\n",
    "# Print the result\n",
    "print(\"Number of missing values in 'Order_ID' column:\", missing_values)"
   ]
  },
  {
   "cell_type": "code",
   "execution_count": 24,
   "id": "b005e2c9",
   "metadata": {},
   "outputs": [
    {
     "name": "stdout",
     "output_type": "stream",
     "text": [
      "Number of missing values in Quantity_of_Items: 2\n"
     ]
    }
   ],
   "source": [
    "missing_values = orders_df[\"Quantity_of_Items\"].isnull().sum()\n",
    "print(f\"Number of missing values in Quantity_of_Items: {missing_values}\")\n"
   ]
  },
  {
   "cell_type": "code",
   "execution_count": 25,
   "id": "c31a0c78",
   "metadata": {},
   "outputs": [],
   "source": [
    "\n",
    "# Handling missing quantity\n",
    "if missing_values > 0 and \"Quantity_of_Items\" in orders_df.columns:\n",
    "    mean_qty = orders_df[\"Quantity_of_Items\"].mean()\n",
    "    rounded_mean_qty = round(mean_qty, 0)  # Adjust the number of decimal places as needed\n",
    "    orders_df[\"Quantity_of_Items\"].fillna(rounded_mean_qty, inplace=True)\n"
   ]
  },
  {
   "cell_type": "code",
   "execution_count": 26,
   "id": "785c5943",
   "metadata": {},
   "outputs": [
    {
     "name": "stdout",
     "output_type": "stream",
     "text": [
      "Rows with negative values in 'Delivery_Time_Taken_Mins' column:\n",
      "    Order_ID First_Customer_Name  Restaurant_ID           Order_Date  \\\n",
      "445    OD446                 Ram             14  2022-01-01 19:21:00   \n",
      "\n",
      "     Quantity_of_Items  Order_Amount Payment_Mode  Delivery_Time_Taken_Mins  \\\n",
      "445                3.0           634  Credit Card                       -11   \n",
      "\n",
      "     Customer_Rating_Food  Customer_Rating_Delivery   Credit_Card  Debit_Card  \\\n",
      "445                     4                         1  4.636655e+18         NaN   \n",
      "\n",
      "     Card_provider Last_Customer_Name  Customer_ID  \n",
      "445  VISA 19 digit             Martin           21  \n"
     ]
    }
   ],
   "source": [
    "# Identify negative values in all columns\n",
    "negative_values = orders_df['Delivery_Time_Taken_Mins'] < 0\n",
    "\n",
    "# Display rows with negative values\n",
    "print(\"Rows with negative values in 'Delivery_Time_Taken_Mins' column:\")\n",
    "print(orders_df[negative_values])"
   ]
  },
  {
   "cell_type": "code",
   "execution_count": 27,
   "id": "0f0c7d75",
   "metadata": {},
   "outputs": [
    {
     "data": {
      "text/plain": [
       "30.0"
      ]
     },
     "execution_count": 27,
     "metadata": {},
     "output_type": "execute_result"
    }
   ],
   "source": [
    "#Calculate Mean Delivery Time\n",
    "\n",
    "#Calculating mean Age\n",
    "mean_deliverytime = orders_df['Delivery_Time_Taken_Mins'].mean()\n",
    "\n",
    "# Round the mean to the desired number of decimal places\n",
    "rounded_mean_deliverytime = round(mean_deliverytime, 0)  # Adjust the number of decimal places as needed\n",
    "rounded_mean_deliverytime\n"
   ]
  },
  {
   "cell_type": "code",
   "execution_count": 28,
   "id": "7bb2526c",
   "metadata": {},
   "outputs": [
    {
     "data": {
      "text/plain": [
       "Order_ID                                    OD446\n",
       "First_Customer_Name                           Ram\n",
       "Restaurant_ID                                  14\n",
       "Order_Date                    2022-01-01 19:21:00\n",
       "Quantity_of_Items                             3.0\n",
       "Order_Amount                                  634\n",
       "Payment_Mode                          Credit Card\n",
       "Delivery_Time_Taken_Mins                       30\n",
       "Customer_Rating_Food                            4\n",
       "Customer_Rating_Delivery                        1\n",
       "Credit_Card                 4636654800757029888.0\n",
       "Debit_Card                                    NaN\n",
       "Card_provider                       VISA 19 digit\n",
       "Last_Customer_Name                         Martin\n",
       "Customer_ID                                    21\n",
       "Name: 445, dtype: object"
      ]
     },
     "execution_count": 28,
     "metadata": {},
     "output_type": "execute_result"
    }
   ],
   "source": [
    "# Replace negative value with mean value\n",
    "orders_df.loc[445, 'Delivery_Time_Taken_Mins'] = 30\n",
    "orders_df.iloc[445]"
   ]
  },
  {
   "cell_type": "code",
   "execution_count": 29,
   "id": "e92f470f",
   "metadata": {},
   "outputs": [],
   "source": [
    "# Fill missing value in 'payment mode' column based on 'credit_card' and 'debit_card'\n",
    "orders_df['Payment_Mode'] = np.where(orders_df['Credit_Card'].notnull(), 'Credit Card',\n",
    "                               np.where(orders_df['Debit_Card'].notnull(), 'Debit Card', 'Cash on Delivery'))"
   ]
  },
  {
   "cell_type": "code",
   "execution_count": 30,
   "id": "cd9866c3",
   "metadata": {},
   "outputs": [],
   "source": [
    "#create paymentid in orders table\n",
    "orders_df.insert(6, 'Payment_ID', range(1, 1 + len(orders_df)))"
   ]
  },
  {
   "cell_type": "code",
   "execution_count": 31,
   "id": "8e167063",
   "metadata": {},
   "outputs": [],
   "source": [
    "# Add CustomerRating ID\n",
    "orders_df['CustomerRating_ID'] = range(1, len(orders_df) + 1)"
   ]
  },
  {
   "cell_type": "code",
   "execution_count": 32,
   "id": "b4e30fa1",
   "metadata": {},
   "outputs": [
    {
     "name": "stdout",
     "output_type": "stream",
     "text": [
      "  Order_ID First_Customer_Name  Restaurant_ID           Order_Date  \\\n",
      "0      OD1               Srini              6  2022-01-01 23:15:00   \n",
      "1      OD2             Revandh             13  2022-01-01 19:21:00   \n",
      "2      OD3               David              9  2022-01-01 23:15:00   \n",
      "3      OD4               Selva              4  2022-01-01 20:31:00   \n",
      "4      OD5               Vinny              4  2022-01-01 11:10:00   \n",
      "\n",
      "   Quantity_of_Items  Order_Amount  Payment_ID      Payment_Mode  \\\n",
      "0                5.0           633           1        Debit Card   \n",
      "1                5.0           258           2       Credit Card   \n",
      "2                7.0           594           3  Cash on Delivery   \n",
      "3                5.0           868           4  Cash on Delivery   \n",
      "4                4.0           170           5        Debit Card   \n",
      "\n",
      "   Delivery_Time_Taken_Mins  Customer_Rating_Food  Customer_Rating_Delivery  \\\n",
      "0                        47                     5                         3   \n",
      "1                        41                     3                         5   \n",
      "2                        30                     3                         4   \n",
      "3                        30                     3                         4   \n",
      "4                        18                     4                         3   \n",
      "\n",
      "    Credit_Card    Debit_Card  Card_provider Last_Customer_Name  Customer_ID  \\\n",
      "0           NaN  3.530303e+15  VISA 13 digit              Simon            1   \n",
      "1  4.332288e+18           NaN       Discover              Scott            2   \n",
      "2           NaN           NaN            NaN             Torres            3   \n",
      "3           NaN           NaN            NaN              Jones            4   \n",
      "4           NaN  6.759038e+11     Mastercard            Coleman            5   \n",
      "\n",
      "   CustomerRating_ID  \n",
      "0                  1  \n",
      "1                  2  \n",
      "2                  3  \n",
      "3                  4  \n",
      "4                  5  \n"
     ]
    }
   ],
   "source": [
    "print(orders_df.head())"
   ]
  },
  {
   "cell_type": "code",
   "execution_count": 33,
   "id": "b2104c71",
   "metadata": {},
   "outputs": [],
   "source": [
    "# Creating data frame for entities\n",
    "location_df= restaurant_df[['Location_ID','Zone']]\n",
    "restaurantInfo_df= restaurant_df[['Restaurant_ID','Restaurant_Name','Cuisine','Category','Street',\n",
    "       'City', 'State', 'ZIP','Location_ID']]\n",
    "manager_df= restaurant_df[['Manager_ID','Restaurant_ID','Manager_Name','Years_as_manager','Email']]\n",
    "payment_df = orders_df [['Payment_ID', 'Credit_Card','Debit_Card','Card_provider','Payment_Mode','Customer_ID','Order_ID']]\n",
    "customer_df= orders_df[['Customer_ID','First_Customer_Name','Last_Customer_Name']]\n",
    "orderdetails_df= orders_df[['Order_ID','Customer_ID','Restaurant_ID','Order_Date','Quantity_of_Items','Order_Amount','Delivery_Time_Taken_Mins']]\n",
    "customerrating_df=orders_df[['CustomerRating_ID','Customer_ID','Order_ID','Customer_Rating_Food','Customer_Rating_Delivery']]"
   ]
  },
  {
   "cell_type": "code",
   "execution_count": 34,
   "id": "f4b27da6",
   "metadata": {},
   "outputs": [
    {
     "data": {
      "text/plain": [
       "478"
      ]
     },
     "execution_count": 34,
     "metadata": {},
     "output_type": "execute_result"
    }
   ],
   "source": [
    "# Checking Duplicate value\n",
    "customer_df[\"Customer_ID\"].duplicated().sum()\n"
   ]
  },
  {
   "cell_type": "code",
   "execution_count": 35,
   "id": "7d80e5a0",
   "metadata": {},
   "outputs": [],
   "source": [
    "#Create copy to remove duplicate\n",
    "customer_df_copy = customer_df.copy()\n",
    "customer_df_copy.drop_duplicates(subset=\"Customer_ID\", keep=\"first\", inplace=True)\n"
   ]
  },
  {
   "cell_type": "code",
   "execution_count": 36,
   "id": "3c855bb2",
   "metadata": {},
   "outputs": [
    {
     "data": {
      "text/plain": [
       "16"
      ]
     },
     "execution_count": 36,
     "metadata": {},
     "output_type": "execute_result"
    }
   ],
   "source": [
    "# Checking Duplicate value\n",
    "location_df[\"Location_ID\"].duplicated().sum()"
   ]
  },
  {
   "cell_type": "code",
   "execution_count": 37,
   "id": "24a97d98",
   "metadata": {},
   "outputs": [],
   "source": [
    "#Create copy to remove duplicate\n",
    "location_df_copy = location_df.copy()\n",
    "location_df_copy.drop_duplicates(subset=\"Location_ID\", keep=\"first\", inplace=True)"
   ]
  },
  {
   "cell_type": "code",
   "execution_count": 38,
   "id": "2a950442",
   "metadata": {},
   "outputs": [
    {
     "name": "stdout",
     "output_type": "stream",
     "text": [
      "    Location_ID    Zone\n",
      "0             1  Zone B\n",
      "1             2  Zone D\n",
      "9             3  Zone A\n",
      "15            4  Zone C\n"
     ]
    }
   ],
   "source": [
    "\n",
    "print(location_df_copy)"
   ]
  },
  {
   "cell_type": "code",
   "execution_count": 39,
   "id": "8eb062c4",
   "metadata": {},
   "outputs": [],
   "source": [
    "import sqlite3\n",
    "\n",
    "# Connect to SQLite database\n",
    "conn = sqlite3.connect('Coursework_10891326.db')\n",
    "cursor = conn.cursor()\n",
    "\n",
    "\n",
    "# Drop if Exists & Create Location table\n",
    "cursor.execute('DROP TABLE IF EXISTS Location;')\n",
    "cursor.execute('''\n",
    "    CREATE TABLE Location (\n",
    "        Location_ID INTEGER PRIMARY KEY AUTOINCREMENT NOT NULL,\n",
    "        Zone VARCHAR(15) NOT NULL\n",
    "    );\n",
    "''')\n",
    "\n",
    "# Drop if Exists & Create RestaurantInfo table\n",
    "cursor.execute('DROP TABLE IF EXISTS RestaurantInfo;')\n",
    "cursor.execute('''\n",
    "    CREATE TABLE RestaurantInfo (\n",
    "        Restaurant_ID INTEGER PRIMARY KEY AUTOINCREMENT NOT NULL,\n",
    "        Restaurant_Name VARCHAR(50) NOT NULL,\n",
    "        Cuisine VARCHAR(25) NOT NULL,\n",
    "        Category VARCHAR(25) NOT NULL,\n",
    "        Location_ID INTEGER NOT NULL,\n",
    "        Street VARCHAR(50),\n",
    "        City VARCHAR(25),\n",
    "        State VARCHAR(2),\n",
    "        ZIP VARCHAR(5),\n",
    "        FOREIGN KEY (Location_ID) REFERENCES  Location (Location_ID) ON UPDATE CASCADE\n",
    "    );\n",
    "''')\n",
    "\n",
    "\n",
    "# Drop if Exists & Create Manager table\n",
    "cursor.execute('DROP TABLE IF EXISTS Manager;')\n",
    "cursor.execute('''\n",
    "    CREATE TABLE Manager (\n",
    "        Manager_ID INTEGER PRIMARY KEY AUTOINCREMENT NOT NULL,\n",
    "        Manager_Name VARCHAR(50) DEFAULT NULL,\n",
    "        Years_as_Manager SMALLINT DEFAULT NULL,\n",
    "        Email VARCHAR(50) DEFAULT NULL,\n",
    "        Restaurant_ID INTEGER NOT NULL,\n",
    "        FOREIGN KEY (Restaurant_ID) REFERENCES RestaurantInfo (Restaurant_ID) ON UPDATE CASCADE\n",
    "    );\n",
    "''')\n",
    "\n",
    "\n",
    "# Drop if Exists & Create Customer table\n",
    "cursor.execute('DROP TABLE IF EXISTS Customer;')\n",
    "cursor.execute('''\n",
    "   CREATE TABLE Customer (\n",
    "        Customer_ID INTEGER PRIMARY KEY AUTOINCREMENT NOT NULL,\n",
    "        First_Customer_Name VARCHAR(50),\n",
    "        Last_Customer_Name VARCHAR(50)\n",
    "    );\n",
    "''')\n",
    "\n",
    "# Drop if Exists & Create Payment table\n",
    "cursor.execute('DROP TABLE IF EXISTS Payment;')\n",
    "cursor.execute('''\n",
    "    CREATE TABLE Payment (\n",
    "        Payment_ID INTEGER PRIMARY KEY AUTOINCREMENT NOT NULL,\n",
    "        Credit_Card VARCHAR(19) DEFAULT NULL,\n",
    "        Debit_Card VARCHAR(19) DEFAULT NULL,\n",
    "        Card_Provider VARCHAR(50) DEFAULT NULL,\n",
    "        Payment_Mode VARCHAR(25) NOT NULL,\n",
    "        Customer_ID INTEGER NOT NULL,\n",
    "        Order_ID VARCHAR(50) NOT NULL,\n",
    "        FOREIGN KEY (Customer_ID) REFERENCES Customer (Customer_ID) ON UPDATE CASCADE,\n",
    "        FOREIGN KEY (Order_ID) REFERENCES OrderDetails (Order_ID) ON UPDATE CASCADE\n",
    "    );\n",
    "''')\n",
    "\n",
    "# Drop if Exists & Create OrderDetails table\n",
    "cursor.execute('DROP TABLE IF EXISTS OrderDetails;')\n",
    "cursor.execute('''\n",
    "    CREATE TABLE OrderDetails (\n",
    "        Order_ID VARCHAR(50) NOT NULL ,\n",
    "        Customer_ID INTEGER NOT NULL,\n",
    "        Restaurant_ID INTEGER NOT NULL,\n",
    "        Order_Date DATETIME NOT NULL,\n",
    "        Quantity_of_Items INTEGER,\n",
    "        Order_Amount DECIMAL(10, 2) NOT NULL,\n",
    "        Delivery_Time_Taken_Mins INTEGER NOT NULL,\n",
    "        PRIMARY KEY (Order_ID),\n",
    "        FOREIGN KEY (Customer_ID) REFERENCES Customer (Customer_ID) ON UPDATE CASCADE,\n",
    "        FOREIGN KEY (Restaurant_ID) REFERENCES RestaurantInfo (Restaurant_ID) ON UPDATE CASCADE  \n",
    "    );\n",
    "''')\n",
    "\n",
    "\n",
    "# Drop if Exists & Create CustomerRating table\n",
    "cursor.execute('DROP TABLE IF EXISTS CustomerRating;')\n",
    "cursor.execute('''\n",
    "    CREATE TABLE CustomerRating (\n",
    "        CustomerRating_ID INTEGER PRIMARY KEY AUTOINCREMENT NOT NULL,\n",
    "        Customer_ID INTEGER NOT NULL, \n",
    "        Order_ID VARCHAR(50) NOT NULL,\n",
    "        Customer_Rating_Food SMALLINT NOT NULL,\n",
    "        Customer_Rating_Delivery SMALLINT NOT NULL,\n",
    "        FOREIGN KEY (Customer_ID) REFERENCES Customer (Customer_ID),\n",
    "        FOREIGN KEY (Order_ID) REFERENCES OrderDetails (Order_ID) ON UPDATE CASCADE\n",
    "    );\n",
    "''')\n",
    "\n",
    "\n",
    "\n",
    "# Commit changes and close the connection\n",
    "conn.commit()\n",
    "conn.close()\n"
   ]
  },
  {
   "cell_type": "markdown",
   "id": "80296b28",
   "metadata": {},
   "source": [
    "GUI for Restaurant"
   ]
  },
  {
   "cell_type": "code",
   "execution_count": 40,
   "id": "8336be40",
   "metadata": {},
   "outputs": [
    {
     "data": {
      "text/plain": [
       "4"
      ]
     },
     "execution_count": 40,
     "metadata": {},
     "output_type": "execute_result"
    }
   ],
   "source": [
    "from sqlalchemy import create_engine\n",
    "\n",
    "# Define SQLite database connection\n",
    "db_name = 'Coursework_10891326.db'\n",
    "conn = sqlite3.connect(db_name)\n",
    "\n",
    "# Create SQLAlchemy engine\n",
    "engine = create_engine(f'sqlite:///{db_name}')\n",
    "\n",
    "location_df_copy.to_sql('Location', con=engine, if_exists='append', index=False)\n"
   ]
  },
  {
   "cell_type": "code",
   "execution_count": 41,
   "id": "dad5eaf4",
   "metadata": {},
   "outputs": [
    {
     "data": {
      "text/plain": [
       "20"
      ]
     },
     "execution_count": 41,
     "metadata": {},
     "output_type": "execute_result"
    }
   ],
   "source": [
    "manager_df.to_sql('Manager', con=engine, if_exists='append', index=False)\n"
   ]
  },
  {
   "cell_type": "code",
   "execution_count": 42,
   "id": "4eb553b4",
   "metadata": {},
   "outputs": [
    {
     "data": {
      "text/plain": [
       "500"
      ]
     },
     "execution_count": 42,
     "metadata": {},
     "output_type": "execute_result"
    }
   ],
   "source": [
    "payment_df.to_sql('Payment', con=engine, if_exists='append', index=False)\n"
   ]
  },
  {
   "cell_type": "code",
   "execution_count": 43,
   "id": "51235eac",
   "metadata": {},
   "outputs": [
    {
     "data": {
      "text/plain": [
       "22"
      ]
     },
     "execution_count": 43,
     "metadata": {},
     "output_type": "execute_result"
    }
   ],
   "source": [
    "customer_df_copy.to_sql('Customer', con=engine, if_exists='append', index=False)\n"
   ]
  },
  {
   "cell_type": "code",
   "execution_count": 44,
   "id": "5e4a0aa4",
   "metadata": {},
   "outputs": [
    {
     "data": {
      "text/plain": [
       "500"
      ]
     },
     "execution_count": 44,
     "metadata": {},
     "output_type": "execute_result"
    }
   ],
   "source": [
    "orderdetails_df.to_sql('OrderDetails', con=engine, if_exists='append', index=False)\n"
   ]
  },
  {
   "cell_type": "code",
   "execution_count": 45,
   "id": "5831d676",
   "metadata": {},
   "outputs": [
    {
     "data": {
      "text/plain": [
       "500"
      ]
     },
     "execution_count": 45,
     "metadata": {},
     "output_type": "execute_result"
    }
   ],
   "source": [
    "customerrating_df.to_sql('CustomerRating', con=engine, if_exists='append', index=False)"
   ]
  },
  {
   "cell_type": "code",
   "execution_count": 46,
   "id": "03286129",
   "metadata": {},
   "outputs": [
    {
     "data": {
      "text/plain": [
       "20"
      ]
     },
     "execution_count": 46,
     "metadata": {},
     "output_type": "execute_result"
    }
   ],
   "source": [
    "restaurantInfo_df.to_sql('RestaurantInfo', con=engine, if_exists='append', index=False)"
   ]
  },
  {
   "cell_type": "code",
   "execution_count": 47,
   "id": "a132d44a",
   "metadata": {},
   "outputs": [
    {
     "name": "stdout",
     "output_type": "stream",
     "text": [
      "    Restaurant_ID    Restaurant_Name       Cuisine  Category  \\\n",
      "0               1     The Cave Hotel   Continental       Pro   \n",
      "1               2          SSK Hotel  North Indian       Pro   \n",
      "2               3     ASR Restaurant  South Indian  Ordinary   \n",
      "3               4          Win Hotel  South Indian  Ordinary   \n",
      "4               5  Denver Restaurant   Continental       Pro   \n",
      "5               6            Willies        French       Pro   \n",
      "6               7                AMN  North Indian  Ordinary   \n",
      "7               8               Oslo        French  Ordinary   \n",
      "8               9   Excel Restaurant  North Indian  Ordinary   \n",
      "9              10         Dave Hotel  South Indian  Ordinary   \n",
      "10             11          The Taste        French       Pro   \n",
      "11             12              Ruchi       Chinese  Ordinary   \n",
      "12             13    Veer Restaurant       Chinese  Ordinary   \n",
      "13             14          KSR Hotel       Chinese       Pro   \n",
      "14             15      Vrinda Bhavan  North Indian  Ordinary   \n",
      "15             16   Anand Restaurant       African  Ordinary   \n",
      "16             17            Zam Zam       Arabian  Ordinary   \n",
      "17             18             Ellora       African       Pro   \n",
      "18             19          Sam Hotel       Belgian  Ordinary   \n",
      "19             20    Chew Restaurant       Belgian  Ordinary   \n",
      "\n",
      "                   Street            City State    ZIP  Location_ID  \n",
      "0        4971 Janet Court       Livermore    CA  94550            1  \n",
      "1         29 Vista Flores      Pleasanton    CA  94566            2  \n",
      "2      1383 Purdue Street     San Leandro    CA  94579            2  \n",
      "3        1452 55th Avenue         Oakland    CA  94621            2  \n",
      "4      1352 Purdue Street     San Leandro    CA  94579            2  \n",
      "5     43626 Bryant Street         Fremont    CA  94539            2  \n",
      "6      7096 Park Mesa Way       San Diego    CA  92111            2  \n",
      "7       12283 Thomas Lane         Yucaipa    CA  92399            1  \n",
      "8     5472 Sunstar Common         Fremont    CA  94555            2  \n",
      "9     43626 Bryant Street         Fremont    CA  94539            3  \n",
      "10  32512 Christine Drive      Union City    CA  94587            1  \n",
      "11    5264 Shafter Avenue         Oakland    CA  94618            1  \n",
      "12      2014 Clemens Road         Oakland    CA  94602            2  \n",
      "13       1452 55th Avenue         Oakland    CA  94621            3  \n",
      "14   2732 Humboldt Avenue         Oakland    CA  94602            2  \n",
      "15       32532 Jean Drive      Union City    CA  94587            4  \n",
      "16       6925 Lariat Lane   Castro Valley    CA  94552            4  \n",
      "17  3228 Chettenham Drive  Rancho Cordova    CA  95670            4  \n",
      "18         145 Grau Drive         Fremont    CA  94536            3  \n",
      "19    7573 National Drive       Livermore    CA  94550            1  \n"
     ]
    }
   ],
   "source": [
    "print(restaurantInfo_df)"
   ]
  },
  {
   "cell_type": "code",
   "execution_count": 48,
   "id": "321ed2a8",
   "metadata": {},
   "outputs": [
    {
     "data": {
      "image/png": "[encoded data removed]",
      "text/plain": [
       "<Figure size 640x480 with 1 Axes>"
      ]
     },
     "metadata": {},
     "output_type": "display_data"
    },
    {
     "data": {
      "image/png": "[encoded data removed]",
      "text/plain": [
       "<Figure size 640x480 with 1 Axes>"
      ]
     },
     "metadata": {},
     "output_type": "display_data"
    }
   ],
   "source": [
    "import sqlite3\n",
    "import tkinter as tk\n",
    "from tkinter import ttk, messagebox, simpledialog\n",
    "import matplotlib.pyplot as plt\n",
    "from matplotlib.backends.backend_tkagg import FigureCanvasTkAgg\n",
    "import re\n",
    "import numpy as np\n",
    "\n",
    "# Class definition for the RestaurantApp, representing the main application\n",
    "class RestaurantApp:\n",
    "    def __init__(self, root):\n",
    "        self.root = root\n",
    "        self.root.title(\"Restaurant Management System\")\n",
    "        \n",
    "        # Make the root window resizable\n",
    "        self.root.resizable(width=True, height=True)\n",
    "\n",
    "        # Create tabs\n",
    "        self.tabs = ttk.Notebook(root)\n",
    "        self.view_tab = ttk.Frame(self.tabs)\n",
    "        self.edit_tab = ttk.Frame(self.tabs)\n",
    "        self.performance_tab = ttk.Frame(self.tabs)\n",
    "\n",
    "        # Add tabs to notebook\n",
    "        self.tabs.add(self.view_tab, text=\"View Database\")\n",
    "        self.tabs.add(self.edit_tab, text=\"Update Database\")\n",
    "        self.tabs.add(self.performance_tab, text=\"Performance\")\n",
    "        self.tabs.pack(expand=1, fill=\"both\")\n",
    "\n",
    "        # Initialize database\n",
    "        self.initialize_database()\n",
    "\n",
    "        # View Database Tab\n",
    "        self.create_view_tab()\n",
    "\n",
    "        # Edit Database Tab\n",
    "        self.create_edit_tab()\n",
    "\n",
    "        # Performance Tab\n",
    "        self.create_performance_tab()\n",
    "        \n",
    "    # Initialize the SQLite database connection and cursor\n",
    "    def initialize_database(self):\n",
    "        try:\n",
    "            # Establish a connection to the SQLite database file (Coursework.10891326.db)\n",
    "            self.conn = sqlite3.connect('Coursework_10891326.db')\n",
    "            self.cursor = self.conn.cursor()  # Create a cursor to interact with the database\n",
    "\n",
    "       # Handle database connection errors and print the error message\n",
    "        except sqlite3.Error as e:\n",
    "            print(\"Database Connection Error:\", e)\n",
    "\n",
    "    # Create the view tab in the GUI\n",
    "    def create_view_tab(self):\n",
    "        # Label for user instruction\n",
    "        self.view_tab_label = tk.Label(self.view_tab, text=\"Select Table:\")\n",
    "        self.view_tab_label.grid(row=0, column=0, pady=10, padx=10)\n",
    "        \n",
    "        # Combobox to choose the table to view\n",
    "        tables = [\"Location\", \"RestaurantInfo\", \"Manager\", \"Customer\", \"OrderDetails\", \"Payment\", \"CustomerRating\"]\n",
    "        self.table_combobox = ttk.Combobox(self.view_tab, values=tables)\n",
    "        self.table_combobox.grid(row=0, column=1, pady=10, padx=10)\n",
    "\n",
    "        # Button to trigger the view_table method\n",
    "        self.view_button = tk.Button(self.view_tab, text=\"View\", command=self.view_table)\n",
    "        self.view_button.grid(row=0, column=2, pady=10, padx=10)\n",
    "        \n",
    "        # Create a frame to contain the Treeview \n",
    "        view_frame = tk.Frame(self.view_tab)\n",
    "        view_frame.grid(row=1, column=0, columnspan=5, pady=10, padx=10, sticky=\"nesw\")\n",
    "        \n",
    "        # Allow the row and column to expand when the window is resized\n",
    "        self.view_tab.grid_rowconfigure(1, weight=1)\n",
    "        self.view_tab.grid_columnconfigure(0, weight=1)\n",
    "\n",
    "        # Declare self.view_output \n",
    "        self.view_output = ttk.Treeview(self.view_tab)\n",
    "        self.view_output[\"columns\"] = ()\n",
    "        self.view_output.grid(row=1, column=0, columnspan=5,pady=10, padx=10, sticky=\"nesw\")\n",
    "        \n",
    "\n",
    "    # View data from the selected table in the GUI\n",
    "    def view_table(self):\n",
    "        table_name = self.table_combobox.get()\n",
    "        query = f'SELECT * FROM {table_name};'\n",
    "        print(\"SQL Query:\", query)  # Add this line for debugging\n",
    "        self.cursor.execute(query)\n",
    "        rows = self.cursor.fetchall()\n",
    "\n",
    "        # Clear existing columns and data\n",
    "        self.view_output[\"columns\"] = ()\n",
    "        self.view_output.delete(*self.view_output.get_children())\n",
    "\n",
    "        # Update columns based on the first row (if available)\n",
    "        if rows:\n",
    "            columns = [str(col[0]) for col in self.cursor.description]\n",
    "            self.view_output[\"columns\"] = columns\n",
    "            for col in columns:\n",
    "                self.view_output.heading(col, text=col)\n",
    "                \n",
    "        # Add rows to the Treeview\n",
    "        for row in rows:\n",
    "            self.view_output.insert(\"\", \"end\", values=row)\n",
    "\n",
    "        # Update the view after adding rows\n",
    "        self.view_output.update_idletasks()\n",
    "        \n",
    "    # Create the 'Edit Database' tab in the GUI\n",
    "\n",
    "    def create_edit_tab(self):\n",
    "        # Label to instruct user to select Restaurant_ID\n",
    "        self.edit_tab_label = tk.Label(self.edit_tab, text=\"Select Restaurant_ID:\")\n",
    "        self.edit_tab_label.grid(row=0, column=0, pady=10, padx=10)\n",
    "\n",
    "        # Combobox to display Restaurant_ID options obtained from the database\n",
    "        restaurant_ids = self.get_restaurant_ids()\n",
    "        self.restaurant_combobox = ttk.Combobox(self.edit_tab, values=restaurant_ids)\n",
    "        self.restaurant_combobox.grid(row=0, column=1, pady=10, padx=10)\n",
    "\n",
    "        # Button to trigger the display of manager information\n",
    "        self.display_button = tk.Button(self.edit_tab, text=\"Update Manager\", command=self.display_manager_info)\n",
    "        self.display_button.grid(row=0, column=2, pady=10, padx=10)\n",
    "\n",
    "        # Treeview widget to display manager information in a tabular format\n",
    "        self.edit_output = ttk.Treeview(self.edit_tab)\n",
    "        self.edit_output[\"columns\"] = ()\n",
    "        self.edit_output.grid(row=1, column=0, columnspan=3, pady=10, padx=10)\n",
    "\n",
    "    # Create edit buttons for manager information\n",
    "    def create_edit_buttons(self, manager_info, columns, restaurant_id):\n",
    "        # Create a frame to contain the edit buttons\n",
    "        edit_buttons_frame = tk.Frame(self.edit_tab)\n",
    "        edit_buttons_frame.grid(row=4, column=3, pady=5, padx=10, sticky=\"sw\")\n",
    "        # Generate edit buttons based on manager_info and associated columns\n",
    "        edit_buttons = [\n",
    "            tk.Button(self.edit_tab, text=f\"Edit {info[0]}\", command=lambda info=info, restaurant_id=restaurant_id: self.edit_manager_info(info, restaurant_id))\n",
    "            for info in [(\"Manager_Name\", manager_info[2]),\n",
    "                         (\"Years_as_manager\", manager_info[3]), (\"Email\", manager_info[4])]\n",
    "        ]\n",
    "\n",
    "         # Place edit buttons in the grid within the frame\n",
    "        for idx, button in enumerate(edit_buttons):\n",
    "            button.grid(row=idx +4, column=0, pady=5, padx=10, sticky=\"sw\")\n",
    "            \n",
    "        # Configure the frame to resize with its contents\n",
    "        edit_buttons_frame.grid_rowconfigure(\"all\", weight=1)\n",
    "        \n",
    "   # Display manager information for the selected restaurant_id\n",
    "    def display_manager_info(self):\n",
    "        restaurant_id = self.restaurant_combobox.get()\n",
    "        self.cursor.execute(f'SELECT * FROM Manager WHERE Restaurant_ID = {restaurant_id};')\n",
    "        manager_info = self.cursor.fetchone()\n",
    "\n",
    "        # Clear existing columns and data\n",
    "        self.edit_output[\"columns\"] = ()\n",
    "        self.edit_output.delete(*self.edit_output.get_children())\n",
    "\n",
    "        # Add new columns\n",
    "        if manager_info:\n",
    "            columns = [\"Attribute\", \"Value\"]\n",
    "            self.edit_output[\"columns\"] = columns\n",
    "            for col in columns:\n",
    "                self.edit_output.heading(col, text=col)\n",
    "            for info in [(\"Manager_Name\", manager_info[1]),\n",
    "                         (\"Years_as_manager\", manager_info[2]), (\"Email\", manager_info[3])]:\n",
    "                self.edit_output.insert(\"\", \"end\", values=info)\n",
    "\n",
    "            # Create Edit buttons for each row\n",
    "            self.create_edit_buttons(manager_info, columns, restaurant_id)\n",
    "\n",
    "\n",
    "    # Edit manager information based on user input\n",
    "    def edit_manager_info(self, info, restaurant_id):\n",
    "        # Use a simple dialog to get user input for editing\n",
    "        new_value = simpledialog.askstring(f\"Edit {info[0]}\", f\"Enter new value for {info[0]}:\", initialvalue=info[1])\n",
    "        \n",
    "        if info[0] == \"Email\" and not self.is_valid_email(new_value):\n",
    "            messagebox.showerror(\"Invalid Email\", \"Please enter a valid email address.\")\n",
    "            return\n",
    "    \n",
    "        if new_value is not None:\n",
    "            # Update the database and refresh the display\n",
    "            self.cursor.execute(f'UPDATE Manager SET \"{info[0]}\" = ? WHERE Restaurant_ID = ?', (new_value, restaurant_id))\n",
    "            self.conn.commit()\n",
    "            self.display_manager_info()\n",
    "        \n",
    "    # Check the validity of an email address using regular expressions\n",
    "    def is_valid_email(self, email):\n",
    "        # Define a regular expression pattern for email validation\n",
    "        email_pattern = re.compile(r'^[a-zA-Z]+@[a-zA-Z]+\\.[a-zA-Z]+$')\n",
    "    \n",
    "        # Check if the email matches the pattern\n",
    "        return bool(re.match(email_pattern, email))\n",
    "    \n",
    "    # Get restaurant IDs from the RestaurantInfo table\n",
    "    def get_restaurant_ids(self):\n",
    "        self.cursor.execute('SELECT Restaurant_ID FROM RestaurantInfo;')\n",
    "        rows = self.cursor.fetchall()\n",
    "        return [str(row[0]) for row in rows]\n",
    "\n",
    "    # Create the Performance tab in the GUI\n",
    "    def create_performance_tab(self):\n",
    "        ## Create a label for performance options\n",
    "        self.performance_button_label = tk.Label(self.performance_tab, text=\"Performance Options:\")\n",
    "        self.performance_button_label.grid(row=0, column=0, pady=10, padx=10)\n",
    "        \n",
    "        # Create a button for calculating mean customer ratings\n",
    "        self.customer_rating_button = tk.Button(self.performance_tab, text=\"Customer Rating\", command=self.calculate_mean_rating)\n",
    "        self.customer_rating_button.grid(row=1, column=0, pady=10, padx=10)\n",
    "\n",
    "        ## Create a button for drawing a histogram of delivery times\n",
    "        self.delivery_time_button = tk.Button(self.performance_tab, text=\"Delivery Time\", command=self.draw_delivery_time_histogram)\n",
    "        self.delivery_time_button.grid(row=2, column=0, pady=10, padx=10)\n",
    "        \n",
    "        # Create a frame to contain the plots\n",
    "        self.performance_plots_frame = tk.Frame(self.performance_tab)\n",
    "        self.performance_plots_frame.grid(row=3, column=0, pady=10, padx=10, sticky=\"nsew\")\n",
    "        \n",
    "    # Clear previous performance plots from the GUI\n",
    "    def clear_performance_plots(self):\n",
    "        for widget in self.performance_plots_frame.winfo_children():\n",
    "            widget.destroy()\n",
    "\n",
    "    # Calculate the mean customer rating for each restaurant \n",
    "    def calculate_mean_rating(self):\n",
    "        try:\n",
    "            # Execute SQL query to calculate mean Customer Rating-Food for each restaurant\n",
    "            self.cursor.execute('''\n",
    "            SELECT RestaurantInfo.Restaurant_ID, RestaurantInfo.Restaurant_Name,\n",
    "            AVG(CustomerRating.Customer_Rating_Food) AS Mean_Rating_Food\n",
    "            FROM RestaurantInfo\n",
    "            JOIN OrderDetails ON RestaurantInfo.Restaurant_ID = OrderDetails.Restaurant_ID\n",
    "            JOIN CustomerRating ON OrderDetails.Order_ID = CustomerRating.Order_ID\n",
    "            GROUP BY RestaurantInfo.Restaurant_ID, RestaurantInfo.Restaurant_Name\n",
    "            ''')\n",
    "\n",
    "            # Fetch the result\n",
    "            result = self.cursor.fetchall()\n",
    "            \n",
    "             # Clear previous plots\n",
    "            self.clear_performance_plots()\n",
    "\n",
    "\n",
    "            # Draw the mean rating bar plot\n",
    "            self.draw_rating_bar_plot(result)\n",
    "\n",
    "        except sqlite3.Error as e:\n",
    "            messagebox.showerror(\"Error\", f\"Database error: {str(e)}\")\n",
    "\n",
    "    # Display the result of rating for each restaurant in a bar plot\n",
    "    def draw_rating_bar_plot(self, data):\n",
    "        if not data:\n",
    "            messagebox.showinfo(\"No Data\", \"No data available for plotting.\")\n",
    "            return\n",
    "        \n",
    "        # Sort data by ratings in descending order\n",
    "        sorted_data = sorted(data, key=lambda x: x[2], reverse=False)\n",
    "\n",
    "        # Extract restaurant names and ratings from the data\n",
    "        restaurants = [row[1] for row in sorted_data]\n",
    "        ratings = [row[2] for row in sorted_data]\n",
    "        \n",
    "        #Create new figure for the plot\n",
    "        fig= plt.figure()\n",
    "\n",
    "      # Create a bar plot\n",
    "        plt.barh(restaurants, ratings, color='green')\n",
    "        plt.xlabel('Mean Rating')\n",
    "        plt.ylabel('Restaurant')\n",
    "        plt.title('Mean Customer Rating-Food for Each Restaurant')\n",
    "        plt.tight_layout()\n",
    "\n",
    "        # Create Tkinter canvas for embedding the plot\n",
    "        canvas = FigureCanvasTkAgg(fig, master=self.performance_plots_frame)\n",
    "        canvas_widget = canvas.get_tk_widget()\n",
    "        canvas_widget.grid(row=0, column=0, pady=10, padx=10, sticky=\"nsew\")\n",
    "\n",
    "         # Update the canvas\n",
    "        canvas.draw()\n",
    "        \n",
    "    # Draw a histogram of delivery times for all order\n",
    "    def draw_delivery_time_histogram(self):\n",
    "        try:\n",
    "            # Execute SQL query to get delivery times for all orders\n",
    "            self.cursor.execute('''\n",
    "                SELECT \"Delivery_Time_Taken_Mins\" FROM OrderDetails\n",
    "            ''')\n",
    "\n",
    "            # Fetch the delivery times\n",
    "            delivery_times = [row[0] for row in self.cursor.fetchall()]\n",
    "            \n",
    "             # Clear previous plots\n",
    "            self.clear_performance_plots()\n",
    "\n",
    "\n",
    "            # Draw histogram using matplotlib\n",
    "            plt.figure()\n",
    "            plt.hist(delivery_times, bins=10, edgecolor='black')\n",
    "            plt.title(\"Histogram of Delivery Time Taken\")\n",
    "            plt.xlabel(\"Delivery Time Taken (mins)\")\n",
    "            plt.ylabel(\"Frequency\")\n",
    "\n",
    "            # Display the histogram in Tkinter window\n",
    "            canvas = FigureCanvasTkAgg(plt.gcf(), master= self.performance_plots_frame)\n",
    "            canvas_widget = canvas.get_tk_widget()\n",
    "            canvas_widget.grid(row=0, column=0, pady=10, padx=10, sticky=\"nsew\")\n",
    "            \n",
    "        except sqlite3.Error as e:\n",
    "            messagebox.showerror(\"Error\", f\"Database error: {str(e)}\")\n",
    "\n",
    "if __name__ == \"__main__\":\n",
    "    root = tk.Tk()\n",
    "    app = RestaurantApp(root)\n",
    "    root.mainloop()\n"
   ]
  },
  {
   "cell_type": "code",
   "execution_count": null,
   "id": "d5d24e88",
   "metadata": {},
   "outputs": [],
   "source": []
  },
  {
   "cell_type": "code",
   "execution_count": null,
   "id": "fbefe8bc",
   "metadata": {},
   "outputs": [],
   "source": []
  }
 ],
 "metadata": {
  "kernelspec": {
   "display_name": "Python 3 (ipykernel)",
   "language": "python",
   "name": "python3"
  },
  "language_info": {
   "codemirror_mode": {
    "name": "ipython",
    "version": 3
   },
   "file_extension": ".py",
   "mimetype": "text/x-python",
   "name": "python",
   "nbconvert_exporter": "python",
   "pygments_lexer": "ipython3",
   "version": "3.11.4"
  }
 },
 "nbformat": 4,
 "nbformat_minor": 5
}
